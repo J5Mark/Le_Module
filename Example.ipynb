{
 "cells": [
  {
   "cell_type": "code",
   "execution_count": 1,
   "metadata": {},
   "outputs": [
    {
     "name": "stdout",
     "output_type": "stream",
     "text": [
      "WARNING:tensorflow:From c:\\Users\\gelos\\AppData\\Local\\Programs\\Python\\Python311\\Lib\\site-packages\\keras\\src\\losses.py:2976: The name tf.losses.sparse_softmax_cross_entropy is deprecated. Please use tf.compat.v1.losses.sparse_softmax_cross_entropy instead.\n",
      "\n"
     ]
    }
   ],
   "source": [
    "import Le_Module.Utilities.FinUtils as fu\n",
    "from Le_Module.Utilities.DataClasses import *\n",
    "from Le_Module.PredictorsManagement import *\n",
    "from Le_Module.StrategiesManagement import *\n",
    "from Le_Module.PaperworkManagement import *\n",
    "from tinkoff.invest import CandleInterval"
   ]
  },
  {
   "cell_type": "code",
   "execution_count": 2,
   "metadata": {},
   "outputs": [],
   "source": [
    "sber = Asset(figi='BBG004730N88', lot_size=10, name='sber')\n",
    "token = '___'\n",
    "account_id = '___'\n",
    "budget = 2393240982350985430"
   ]
  },
  {
   "cell_type": "code",
   "execution_count": null,
   "metadata": {},
   "outputs": [],
   "source": [
    "asset = sber\n",
    "deci = DecidingModules.YourDecidingModule()\n",
    "quant = QuantityControllers.YourQuantityModule()\n",
    "siggen = sm.SignalGenerator(Decider=deci, Quantifier=quant)\n",
    "bridge = Bridges.CandlesBridge(token = token, acc_id = account_id)\n",
    "stratparams = sm.StrategyParams(SignalGenerator=siggen, TOKEN=token, FIGI = asset.figi, Budget=budget, Backtest=False)\n",
    "bot = sm.AutomatedStrategy(params=stratparams, lot_size=asset.lot_size, strategy_id=asset.name, comission=0.3, transparency=True, bridge=bridge)\n",
    "\n",
    "class instructions(DataPreparationInstructions):\n",
    "    def __call__(self, tha: Candles) -> Candles:\n",
    "        tha.MAs = [fu.calcMA(tha, span = 11)]\n",
    "        #smth smth other instructions and indicators\n",
    "        return tha #thats an Aphex twin reference\n",
    "\n",
    "R = instructions()\n",
    "\n",
    "bot.trade(data_preparation_intructions=R,\n",
    "          interval=CandleInterval.CANDLE_INTERVAL_5_MIN,\n",
    "          d_frequency = 12,  #this means that a market decision will be executed each 12 candles of the chosen timeframe\n",
    "          necessary_initial_period=4,\n",
    "          for_predictors=3,\n",
    "          waiting_close=True)"
   ]
  }
 ],
 "metadata": {
  "kernelspec": {
   "display_name": "Python 3",
   "language": "python",
   "name": "python3"
  },
  "language_info": {
   "codemirror_mode": {
    "name": "ipython",
    "version": 3
   },
   "file_extension": ".py",
   "mimetype": "text/x-python",
   "name": "python",
   "nbconvert_exporter": "python",
   "pygments_lexer": "ipython3",
   "version": "3.11.7"
  }
 },
 "nbformat": 4,
 "nbformat_minor": 2
}
